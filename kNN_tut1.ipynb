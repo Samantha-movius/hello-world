{
 "cells": [
  {
   "cell_type": "markdown",
   "metadata": {},
   "source": [
    "# Introduction to the dataset"
   ]
  },
  {
   "cell_type": "markdown",
   "metadata": {},
   "source": [
    "In this tutorial we are concerned with reading in the required dataset as well as gaining an understanding of the data and the relevant features. We are also required to get the data into a useful format. Raw data is very rarely in a perfect format, and so we are almost always required to manipulate it in some way so that it may be useful in analysis and processing.   "
   ]
  },
  {
   "cell_type": "markdown",
   "metadata": {},
   "source": [
    "## The data"
   ]
  },
  {
   "cell_type": "markdown",
   "metadata": {},
   "source": [
    "This data set contains information on variables associated with mothers and their newborn infants. The task is to predict whether or not an infant is likely to have a low birth weight (a weight less than 2500g), given a number of factors (predictors) related to the mother. These factors are:\n",
    "\n",
    "- age  : age of the infant's mother in years\n",
    "- lwt  : weight of infant's mother in pounds\n",
    "- race : mothers race (white, black, other)\n",
    "- smoke: smoking status during pregnancy\n",
    "- ht   : history of hypertension\n",
    "- ui   : presence of uterine irritability\n",
    "- ftv  : number of physician visits during the first trimester\n",
    "- ptl  : number of previous premature labours"
   ]
  },
  {
   "cell_type": "markdown",
   "metadata": {},
   "source": [
    "The above factors are possibly predictors of the final two variables:\n",
    "\n",
    "- bwt  : Weight in grams of infant\n",
    "- low  : indicator of birth weight less than 2.5kg\n",
    "\n",
    "These variable 'bwt' implies the outcome of 'low', as a birth weight below 2500g indicates that the binary variable 'low' will obtain a value or 1. For this reason, we will exclude the data in the 'bwt' column. "
   ]
  },
  {
   "cell_type": "markdown",
   "metadata": {},
   "source": [
    "## Reading in the data set"
   ]
  },
  {
   "cell_type": "markdown",
   "metadata": {},
   "source": [
    "Before we load the data set in python, we need to import the Python necessary libraries. While we won't use all these libraries initially, we will use them during the following tutorials."
   ]
  },
  {
   "cell_type": "code",
   "execution_count": 1,
   "metadata": {},
   "outputs": [],
   "source": [
    "import pandas as pd\n",
    "import seaborn as sns\n",
    "import matplotlib.pyplot as plt\n",
    "import numpy as np\n",
    "%matplotlib inline"
   ]
  },
  {
   "cell_type": "markdown",
   "metadata": {},
   "source": [
    "We then read in our data set and save it to a data frame called df."
   ]
  },
  {
   "cell_type": "code",
   "execution_count": 2,
   "metadata": {},
   "outputs": [],
   "source": [
    "df = pd.read_csv('BirthWeights.csv')"
   ]
  },
  {
   "cell_type": "markdown",
   "metadata": {},
   "source": [
    "Next, we view our data set."
   ]
  },
  {
   "cell_type": "code",
   "execution_count": 3,
   "metadata": {},
   "outputs": [
    {
     "data": {
      "text/html": [
       "<div>\n",
       "<style scoped>\n",
       "    .dataframe tbody tr th:only-of-type {\n",
       "        vertical-align: middle;\n",
       "    }\n",
       "\n",
       "    .dataframe tbody tr th {\n",
       "        vertical-align: top;\n",
       "    }\n",
       "\n",
       "    .dataframe thead th {\n",
       "        text-align: right;\n",
       "    }\n",
       "</style>\n",
       "<table border=\"1\" class=\"dataframe\">\n",
       "  <thead>\n",
       "    <tr style=\"text-align: right;\">\n",
       "      <th></th>\n",
       "      <th>low</th>\n",
       "      <th>age</th>\n",
       "      <th>lwt</th>\n",
       "      <th>race</th>\n",
       "      <th>smoke</th>\n",
       "      <th>ht</th>\n",
       "      <th>ui</th>\n",
       "      <th>ftv</th>\n",
       "      <th>ptl</th>\n",
       "      <th>bwt</th>\n",
       "    </tr>\n",
       "  </thead>\n",
       "  <tbody>\n",
       "    <tr>\n",
       "      <th>0</th>\n",
       "      <td>0</td>\n",
       "      <td>19</td>\n",
       "      <td>182</td>\n",
       "      <td>black</td>\n",
       "      <td>0</td>\n",
       "      <td>0</td>\n",
       "      <td>1</td>\n",
       "      <td>0</td>\n",
       "      <td>0</td>\n",
       "      <td>2523</td>\n",
       "    </tr>\n",
       "    <tr>\n",
       "      <th>1</th>\n",
       "      <td>0</td>\n",
       "      <td>33</td>\n",
       "      <td>155</td>\n",
       "      <td>other</td>\n",
       "      <td>0</td>\n",
       "      <td>0</td>\n",
       "      <td>0</td>\n",
       "      <td>1</td>\n",
       "      <td>0</td>\n",
       "      <td>2551</td>\n",
       "    </tr>\n",
       "    <tr>\n",
       "      <th>2</th>\n",
       "      <td>0</td>\n",
       "      <td>20</td>\n",
       "      <td>105</td>\n",
       "      <td>white</td>\n",
       "      <td>1</td>\n",
       "      <td>0</td>\n",
       "      <td>0</td>\n",
       "      <td>1</td>\n",
       "      <td>0</td>\n",
       "      <td>2557</td>\n",
       "    </tr>\n",
       "    <tr>\n",
       "      <th>3</th>\n",
       "      <td>0</td>\n",
       "      <td>21</td>\n",
       "      <td>108</td>\n",
       "      <td>white</td>\n",
       "      <td>1</td>\n",
       "      <td>0</td>\n",
       "      <td>1</td>\n",
       "      <td>1</td>\n",
       "      <td>0</td>\n",
       "      <td>2594</td>\n",
       "    </tr>\n",
       "    <tr>\n",
       "      <th>4</th>\n",
       "      <td>0</td>\n",
       "      <td>18</td>\n",
       "      <td>107</td>\n",
       "      <td>white</td>\n",
       "      <td>1</td>\n",
       "      <td>0</td>\n",
       "      <td>1</td>\n",
       "      <td>0</td>\n",
       "      <td>0</td>\n",
       "      <td>2600</td>\n",
       "    </tr>\n",
       "  </tbody>\n",
       "</table>\n",
       "</div>"
      ],
      "text/plain": [
       "   low  age  lwt   race  smoke  ht  ui  ftv  ptl   bwt\n",
       "0    0   19  182  black      0   0   1    0    0  2523\n",
       "1    0   33  155  other      0   0   0    1    0  2551\n",
       "2    0   20  105  white      1   0   0    1    0  2557\n",
       "3    0   21  108  white      1   0   1    1    0  2594\n",
       "4    0   18  107  white      1   0   1    0    0  2600"
      ]
     },
     "execution_count": 3,
     "metadata": {},
     "output_type": "execute_result"
    }
   ],
   "source": [
    "df.head()"
   ]
  },
  {
   "cell_type": "markdown",
   "metadata": {},
   "source": [
    "We can see that our data set contains binary, categorical and ordinal variables. \n",
    "\n",
    "The .describe() method can be used to get an idea of the measure of spread of the different data columns"
   ]
  },
  {
   "cell_type": "code",
   "execution_count": 4,
   "metadata": {},
   "outputs": [
    {
     "data": {
      "text/html": [
       "<div>\n",
       "<style scoped>\n",
       "    .dataframe tbody tr th:only-of-type {\n",
       "        vertical-align: middle;\n",
       "    }\n",
       "\n",
       "    .dataframe tbody tr th {\n",
       "        vertical-align: top;\n",
       "    }\n",
       "\n",
       "    .dataframe thead th {\n",
       "        text-align: right;\n",
       "    }\n",
       "</style>\n",
       "<table border=\"1\" class=\"dataframe\">\n",
       "  <thead>\n",
       "    <tr style=\"text-align: right;\">\n",
       "      <th></th>\n",
       "      <th>low</th>\n",
       "      <th>age</th>\n",
       "      <th>lwt</th>\n",
       "      <th>smoke</th>\n",
       "      <th>ht</th>\n",
       "      <th>ui</th>\n",
       "      <th>ftv</th>\n",
       "      <th>ptl</th>\n",
       "      <th>bwt</th>\n",
       "    </tr>\n",
       "  </thead>\n",
       "  <tbody>\n",
       "    <tr>\n",
       "      <th>count</th>\n",
       "      <td>189.000000</td>\n",
       "      <td>189.000000</td>\n",
       "      <td>189.000000</td>\n",
       "      <td>189.000000</td>\n",
       "      <td>189.000000</td>\n",
       "      <td>189.000000</td>\n",
       "      <td>189.000000</td>\n",
       "      <td>189.000000</td>\n",
       "      <td>189.000000</td>\n",
       "    </tr>\n",
       "    <tr>\n",
       "      <th>mean</th>\n",
       "      <td>0.312169</td>\n",
       "      <td>23.238095</td>\n",
       "      <td>129.687831</td>\n",
       "      <td>0.391534</td>\n",
       "      <td>0.063492</td>\n",
       "      <td>0.148148</td>\n",
       "      <td>0.470899</td>\n",
       "      <td>0.158730</td>\n",
       "      <td>2944.656085</td>\n",
       "    </tr>\n",
       "    <tr>\n",
       "      <th>std</th>\n",
       "      <td>0.464609</td>\n",
       "      <td>5.298678</td>\n",
       "      <td>30.647150</td>\n",
       "      <td>0.489390</td>\n",
       "      <td>0.244494</td>\n",
       "      <td>0.356190</td>\n",
       "      <td>0.500478</td>\n",
       "      <td>0.366395</td>\n",
       "      <td>729.022417</td>\n",
       "    </tr>\n",
       "    <tr>\n",
       "      <th>min</th>\n",
       "      <td>0.000000</td>\n",
       "      <td>14.000000</td>\n",
       "      <td>80.000000</td>\n",
       "      <td>0.000000</td>\n",
       "      <td>0.000000</td>\n",
       "      <td>0.000000</td>\n",
       "      <td>0.000000</td>\n",
       "      <td>0.000000</td>\n",
       "      <td>709.000000</td>\n",
       "    </tr>\n",
       "    <tr>\n",
       "      <th>25%</th>\n",
       "      <td>0.000000</td>\n",
       "      <td>19.000000</td>\n",
       "      <td>110.000000</td>\n",
       "      <td>0.000000</td>\n",
       "      <td>0.000000</td>\n",
       "      <td>0.000000</td>\n",
       "      <td>0.000000</td>\n",
       "      <td>0.000000</td>\n",
       "      <td>2414.000000</td>\n",
       "    </tr>\n",
       "    <tr>\n",
       "      <th>50%</th>\n",
       "      <td>0.000000</td>\n",
       "      <td>23.000000</td>\n",
       "      <td>121.000000</td>\n",
       "      <td>0.000000</td>\n",
       "      <td>0.000000</td>\n",
       "      <td>0.000000</td>\n",
       "      <td>0.000000</td>\n",
       "      <td>0.000000</td>\n",
       "      <td>2977.000000</td>\n",
       "    </tr>\n",
       "    <tr>\n",
       "      <th>75%</th>\n",
       "      <td>1.000000</td>\n",
       "      <td>26.000000</td>\n",
       "      <td>140.000000</td>\n",
       "      <td>1.000000</td>\n",
       "      <td>0.000000</td>\n",
       "      <td>0.000000</td>\n",
       "      <td>1.000000</td>\n",
       "      <td>0.000000</td>\n",
       "      <td>3475.000000</td>\n",
       "    </tr>\n",
       "    <tr>\n",
       "      <th>max</th>\n",
       "      <td>1.000000</td>\n",
       "      <td>45.000000</td>\n",
       "      <td>250.000000</td>\n",
       "      <td>1.000000</td>\n",
       "      <td>1.000000</td>\n",
       "      <td>1.000000</td>\n",
       "      <td>1.000000</td>\n",
       "      <td>1.000000</td>\n",
       "      <td>4990.000000</td>\n",
       "    </tr>\n",
       "  </tbody>\n",
       "</table>\n",
       "</div>"
      ],
      "text/plain": [
       "              low         age         lwt       smoke          ht          ui  \\\n",
       "count  189.000000  189.000000  189.000000  189.000000  189.000000  189.000000   \n",
       "mean     0.312169   23.238095  129.687831    0.391534    0.063492    0.148148   \n",
       "std      0.464609    5.298678   30.647150    0.489390    0.244494    0.356190   \n",
       "min      0.000000   14.000000   80.000000    0.000000    0.000000    0.000000   \n",
       "25%      0.000000   19.000000  110.000000    0.000000    0.000000    0.000000   \n",
       "50%      0.000000   23.000000  121.000000    0.000000    0.000000    0.000000   \n",
       "75%      1.000000   26.000000  140.000000    1.000000    0.000000    0.000000   \n",
       "max      1.000000   45.000000  250.000000    1.000000    1.000000    1.000000   \n",
       "\n",
       "              ftv         ptl          bwt  \n",
       "count  189.000000  189.000000   189.000000  \n",
       "mean     0.470899    0.158730  2944.656085  \n",
       "std      0.500478    0.366395   729.022417  \n",
       "min      0.000000    0.000000   709.000000  \n",
       "25%      0.000000    0.000000  2414.000000  \n",
       "50%      0.000000    0.000000  2977.000000  \n",
       "75%      1.000000    0.000000  3475.000000  \n",
       "max      1.000000    1.000000  4990.000000  "
      ]
     },
     "execution_count": 4,
     "metadata": {},
     "output_type": "execute_result"
    }
   ],
   "source": [
    "df.describe()"
   ]
  },
  {
   "cell_type": "markdown",
   "metadata": {},
   "source": [
    "We can use the .info() method to give a summary of the data. It indicates how many data entries (rows) we have, as well as the data type present in each column. "
   ]
  },
  {
   "cell_type": "code",
   "execution_count": 5,
   "metadata": {},
   "outputs": [
    {
     "name": "stdout",
     "output_type": "stream",
     "text": [
      "<class 'pandas.core.frame.DataFrame'>\n",
      "RangeIndex: 189 entries, 0 to 188\n",
      "Data columns (total 10 columns):\n",
      "low      189 non-null int64\n",
      "age      189 non-null int64\n",
      "lwt      189 non-null int64\n",
      "race     189 non-null object\n",
      "smoke    189 non-null int64\n",
      "ht       189 non-null int64\n",
      "ui       189 non-null int64\n",
      "ftv      189 non-null int64\n",
      "ptl      189 non-null int64\n",
      "bwt      189 non-null int64\n",
      "dtypes: int64(9), object(1)\n",
      "memory usage: 14.8+ KB\n"
     ]
    }
   ],
   "source": [
    "df.info()"
   ]
  },
  {
   "cell_type": "markdown",
   "metadata": {},
   "source": [
    "## Data visualisation\n",
    "Data visualisation is an important tool we use to gain a better understanding of the data and its associated trends. "
   ]
  },
  {
   "cell_type": "markdown",
   "metadata": {},
   "source": [
    "#### We start by plotting histograms of the weights of mothers for both low and normal weight infants"
   ]
  },
  {
   "cell_type": "code",
   "execution_count": 6,
   "metadata": {},
   "outputs": [
    {
     "data": {
      "text/plain": [
       "Text(0.5,0,'Weight of mother')"
      ]
     },
     "execution_count": 6,
     "metadata": {},
     "output_type": "execute_result"
    },
    {
     "data": {
      "image/png": "[encoded data removed]",
      "text/plain": [
       "<matplotlib.figure.Figure at 0x218f264cb00>"
      ]
     },
     "metadata": {},
     "output_type": "display_data"
    }
   ],
   "source": [
    "plt.figure(figsize=(10,6))\n",
    "df[df['low']==1]['lwt'].hist(alpha=0.5,color='blue',\n",
    "                                              bins=20,label='Underweight')\n",
    "df[df['low']==0]['lwt'].hist(alpha=0.5,color='red',\n",
    "                                              bins=20,label='Normal weight')\n",
    "plt.legend()\n",
    "plt.xlabel('Weight of mother')"
   ]
  },
  {
   "cell_type": "markdown",
   "metadata": {},
   "source": [
    "We can confirm that there are definitely less instances of low weight births in comparison to normal weigh births. Additionally, this graph provides no obvious correlation of birth mother weights to low infant weights. "
   ]
  },
  {
   "cell_type": "markdown",
   "metadata": {},
   "source": [
    "#### Now let's count the instances of low and normal infant births by comparing races"
   ]
  },
  {
   "cell_type": "code",
   "execution_count": 7,
   "metadata": {},
   "outputs": [
    {
     "data": {
      "text/plain": [
       "<matplotlib.axes._subplots.AxesSubplot at 0x218f271f588>"
      ]
     },
     "execution_count": 7,
     "metadata": {},
     "output_type": "execute_result"
    },
    {
     "data": {
      "image/png": "[encoded data removed]",
      "text/plain": [
       "<matplotlib.figure.Figure at 0x218f264c160>"
      ]
     },
     "metadata": {},
     "output_type": "display_data"
    }
   ],
   "source": [
    "plt.figure(figsize=(11,7))\n",
    "sns.countplot(x='race',hue='low',data=df)"
   ]
  },
  {
   "cell_type": "markdown",
   "metadata": {},
   "source": [
    "It appears that a little less than half the number of black mothers have underweight infants, while only around one quarter of white mothers appear to have underweight infants. One important factor to note, however, is that there is more data on white mothers, than black mothers, which may influence these results."
   ]
  },
  {
   "cell_type": "markdown",
   "metadata": {},
   "source": [
    "#### Next, we count the number of smokers/nonsmokers for both under/normal infant weights"
   ]
  },
  {
   "cell_type": "code",
   "execution_count": 8,
   "metadata": {},
   "outputs": [
    {
     "data": {
      "text/plain": [
       "<matplotlib.axes._subplots.AxesSubplot at 0x218f2808c88>"
      ]
     },
     "execution_count": 8,
     "metadata": {},
     "output_type": "execute_result"
    },
    {
     "data": {
      "image/png": "[encoded data removed]",
      "text/plain": [
       "<matplotlib.figure.Figure at 0x218f2742dd8>"
      ]
     },
     "metadata": {},
     "output_type": "display_data"
    }
   ],
   "source": [
    "sns.countplot(x='smoke', hue='low', data=df)"
   ]
  },
  {
   "cell_type": "markdown",
   "metadata": {},
   "source": [
    "We can see that a little under half the number of smokers have underweight infants, while approximately one quarter of nonsmokers have underweight babies, suggesting that that smoking may affect the weight of infants"
   ]
  },
  {
   "cell_type": "markdown",
   "metadata": {},
   "source": [
    "#### Next, we compare the classified weights of infants based on whether or not the mother has had a premature labour "
   ]
  },
  {
   "cell_type": "code",
   "execution_count": 9,
   "metadata": {},
   "outputs": [
    {
     "data": {
      "text/plain": [
       "<matplotlib.axes._subplots.AxesSubplot at 0x218f3bcf780>"
      ]
     },
     "execution_count": 9,
     "metadata": {},
     "output_type": "execute_result"
    },
    {
     "data": {
      "image/png": "[encoded data removed]",
      "text/plain": [
       "<matplotlib.figure.Figure at 0x218f2853940>"
      ]
     },
     "metadata": {},
     "output_type": "display_data"
    }
   ],
   "source": [
    "sns.countplot(x='ptl', hue='low', data=df)"
   ]
  },
  {
   "cell_type": "markdown",
   "metadata": {},
   "source": [
    " Looking at this countplot, we see that of the mothers who have previously had premature labours, majority of them give birth to underweight infants"
   ]
  },
  {
   "cell_type": "markdown",
   "metadata": {},
   "source": [
    "## Data preprocessing"
   ]
  },
  {
   "cell_type": "markdown",
   "metadata": {},
   "source": [
    "Now that we have read in our data set and familiarised ourselves with it, we can start our data manipulation. One thing we can notice from the output above is that 'race' is of type object, while the other columns are all int64. Let's have a closer look at this column."
   ]
  },
  {
   "cell_type": "code",
   "execution_count": 10,
   "metadata": {},
   "outputs": [
    {
     "data": {
      "text/plain": [
       "white    96\n",
       "other    67\n",
       "black    26\n",
       "Name: race, dtype: int64"
      ]
     },
     "execution_count": 10,
     "metadata": {},
     "output_type": "execute_result"
    }
   ],
   "source": [
    "df['race'].value_counts()"
   ]
  },
  {
   "cell_type": "markdown",
   "metadata": {},
   "source": [
    "We can see that the 'race' column is categorical, containing categories of black, white and other. One thing we can see from this data set is that there are considerbly more white mothers than any other race. \n",
    "### Categorical data\n",
    "Since most machine learning algorithms are algebraic, they cannot cope with categorical data and so it must be transformed into numerical data. This is done through encoding the categorical column. The way we encode the data depends whether or not it is ordinal or not. If we have $n$ categories and they are ordinal, then we can encode the column by assigning each category within the column a value ranging from 0 to $n-1$, if not we create $n-1$ binary columns, each representing one of the $n$ categories, removing one of them.\n",
    "\n",
    "We are going to focus on non-ordinal categories, since that is what our data contains. This requires us to create a column for each individual category and use binary variables to determine which category is relevant. As an example, lets consider a 'Gender' column, which will include either 'Male' or 'Female'. The 'Gender' will be replaced by two columns that might look something like:\n",
    "\n",
    "| Male | Female|\n",
    "|------|------|\n",
    "|   1  | 0    |\n",
    "|   1  | 0    |\n",
    "|   0  | 1    |\n",
    "|   1  | 0    |\n",
    "\n",
    "There is one problem though. Since the one column implies the state of the other (i.e. if there is a 1 in the 'Male' column we know for certain that there is a 0 in the 'Female' column), these columns are multicollinear, meaning that one column may be predicted by the state of one of more of the other columns. To overcome this, we remove either one of these columns, so that we are just left with:\n",
    "\n",
    "| Female|\n",
    "|------|\n",
    "| 0    |\n",
    "| 0    |\n",
    "| 1    |\n",
    "| 0    |\n",
    "\n",
    "We see that we still have the same amount of information contained in this single column. In general, if we are encoding a column containing $n$ unique categories, we will end up with $n-1$ binary columns once we have encoded them. "
   ]
  },
  {
   "cell_type": "markdown",
   "metadata": {},
   "source": [
    "#### Now let's encode the categorical data column in our data set"
   ]
  },
  {
   "cell_type": "code",
   "execution_count": 11,
   "metadata": {},
   "outputs": [
    {
     "data": {
      "text/html": [
       "<div>\n",
       "<style scoped>\n",
       "    .dataframe tbody tr th:only-of-type {\n",
       "        vertical-align: middle;\n",
       "    }\n",
       "\n",
       "    .dataframe tbody tr th {\n",
       "        vertical-align: top;\n",
       "    }\n",
       "\n",
       "    .dataframe thead th {\n",
       "        text-align: right;\n",
       "    }\n",
       "</style>\n",
       "<table border=\"1\" class=\"dataframe\">\n",
       "  <thead>\n",
       "    <tr style=\"text-align: right;\">\n",
       "      <th></th>\n",
       "      <th>low</th>\n",
       "      <th>age</th>\n",
       "      <th>lwt</th>\n",
       "      <th>smoke</th>\n",
       "      <th>ht</th>\n",
       "      <th>ui</th>\n",
       "      <th>ftv</th>\n",
       "      <th>ptl</th>\n",
       "      <th>bwt</th>\n",
       "      <th>race_other</th>\n",
       "      <th>race_white</th>\n",
       "    </tr>\n",
       "  </thead>\n",
       "  <tbody>\n",
       "    <tr>\n",
       "      <th>0</th>\n",
       "      <td>0</td>\n",
       "      <td>19</td>\n",
       "      <td>182</td>\n",
       "      <td>0</td>\n",
       "      <td>0</td>\n",
       "      <td>1</td>\n",
       "      <td>0</td>\n",
       "      <td>0</td>\n",
       "      <td>2523</td>\n",
       "      <td>0</td>\n",
       "      <td>0</td>\n",
       "    </tr>\n",
       "    <tr>\n",
       "      <th>1</th>\n",
       "      <td>0</td>\n",
       "      <td>33</td>\n",
       "      <td>155</td>\n",
       "      <td>0</td>\n",
       "      <td>0</td>\n",
       "      <td>0</td>\n",
       "      <td>1</td>\n",
       "      <td>0</td>\n",
       "      <td>2551</td>\n",
       "      <td>1</td>\n",
       "      <td>0</td>\n",
       "    </tr>\n",
       "    <tr>\n",
       "      <th>2</th>\n",
       "      <td>0</td>\n",
       "      <td>20</td>\n",
       "      <td>105</td>\n",
       "      <td>1</td>\n",
       "      <td>0</td>\n",
       "      <td>0</td>\n",
       "      <td>1</td>\n",
       "      <td>0</td>\n",
       "      <td>2557</td>\n",
       "      <td>0</td>\n",
       "      <td>1</td>\n",
       "    </tr>\n",
       "    <tr>\n",
       "      <th>3</th>\n",
       "      <td>0</td>\n",
       "      <td>21</td>\n",
       "      <td>108</td>\n",
       "      <td>1</td>\n",
       "      <td>0</td>\n",
       "      <td>1</td>\n",
       "      <td>1</td>\n",
       "      <td>0</td>\n",
       "      <td>2594</td>\n",
       "      <td>0</td>\n",
       "      <td>1</td>\n",
       "    </tr>\n",
       "    <tr>\n",
       "      <th>4</th>\n",
       "      <td>0</td>\n",
       "      <td>18</td>\n",
       "      <td>107</td>\n",
       "      <td>1</td>\n",
       "      <td>0</td>\n",
       "      <td>1</td>\n",
       "      <td>0</td>\n",
       "      <td>0</td>\n",
       "      <td>2600</td>\n",
       "      <td>0</td>\n",
       "      <td>1</td>\n",
       "    </tr>\n",
       "  </tbody>\n",
       "</table>\n",
       "</div>"
      ],
      "text/plain": [
       "   low  age  lwt  smoke  ht  ui  ftv  ptl   bwt  race_other  race_white\n",
       "0    0   19  182      0   0   1    0    0  2523           0           0\n",
       "1    0   33  155      0   0   0    1    0  2551           1           0\n",
       "2    0   20  105      1   0   0    1    0  2557           0           1\n",
       "3    0   21  108      1   0   1    1    0  2594           0           1\n",
       "4    0   18  107      1   0   1    0    0  2600           0           1"
      ]
     },
     "execution_count": 11,
     "metadata": {},
     "output_type": "execute_result"
    }
   ],
   "source": [
    "df = pd.get_dummies(df,columns=['race'],drop_first=True)\n",
    "df.head()"
   ]
  },
  {
   "cell_type": "markdown",
   "metadata": {},
   "source": [
    "The 'race' column was removed and replaced by the two binary columns, 'race_other' and 'race_white'. There is no 'race_black' column as enough information is given by the other two race columns. As an example, if we want to indicate the race of a mother is black, having a zero in both columns indicates that the mother is niether white, nor any other race (excluding black), and must therefore be black."
   ]
  },
  {
   "cell_type": "markdown",
   "metadata": {},
   "source": [
    "Now that all our data columns are in a numerical format, we take a look at the range of each column."
   ]
  },
  {
   "cell_type": "code",
   "execution_count": 12,
   "metadata": {},
   "outputs": [
    {
     "data": {
      "text/html": [
       "<div>\n",
       "<style scoped>\n",
       "    .dataframe tbody tr th:only-of-type {\n",
       "        vertical-align: middle;\n",
       "    }\n",
       "\n",
       "    .dataframe tbody tr th {\n",
       "        vertical-align: top;\n",
       "    }\n",
       "\n",
       "    .dataframe thead th {\n",
       "        text-align: right;\n",
       "    }\n",
       "</style>\n",
       "<table border=\"1\" class=\"dataframe\">\n",
       "  <thead>\n",
       "    <tr style=\"text-align: right;\">\n",
       "      <th></th>\n",
       "      <th>low</th>\n",
       "      <th>age</th>\n",
       "      <th>lwt</th>\n",
       "      <th>smoke</th>\n",
       "      <th>ht</th>\n",
       "      <th>ui</th>\n",
       "      <th>ftv</th>\n",
       "      <th>ptl</th>\n",
       "      <th>bwt</th>\n",
       "      <th>race_other</th>\n",
       "      <th>race_white</th>\n",
       "    </tr>\n",
       "  </thead>\n",
       "  <tbody>\n",
       "    <tr>\n",
       "      <th>min</th>\n",
       "      <td>0.0</td>\n",
       "      <td>14.0</td>\n",
       "      <td>80.0</td>\n",
       "      <td>0.0</td>\n",
       "      <td>0.0</td>\n",
       "      <td>0.0</td>\n",
       "      <td>0.0</td>\n",
       "      <td>0.0</td>\n",
       "      <td>709.0</td>\n",
       "      <td>0.0</td>\n",
       "      <td>0.0</td>\n",
       "    </tr>\n",
       "    <tr>\n",
       "      <th>max</th>\n",
       "      <td>1.0</td>\n",
       "      <td>45.0</td>\n",
       "      <td>250.0</td>\n",
       "      <td>1.0</td>\n",
       "      <td>1.0</td>\n",
       "      <td>1.0</td>\n",
       "      <td>1.0</td>\n",
       "      <td>1.0</td>\n",
       "      <td>4990.0</td>\n",
       "      <td>1.0</td>\n",
       "      <td>1.0</td>\n",
       "    </tr>\n",
       "  </tbody>\n",
       "</table>\n",
       "</div>"
      ],
      "text/plain": [
       "     low   age    lwt  smoke   ht   ui  ftv  ptl     bwt  race_other  \\\n",
       "min  0.0  14.0   80.0    0.0  0.0  0.0  0.0  0.0   709.0         0.0   \n",
       "max  1.0  45.0  250.0    1.0  1.0  1.0  1.0  1.0  4990.0         1.0   \n",
       "\n",
       "     race_white  \n",
       "min         0.0  \n",
       "max         1.0  "
      ]
     },
     "execution_count": 12,
     "metadata": {},
     "output_type": "execute_result"
    }
   ],
   "source": [
    "df.describe().loc[['min','max']]"
   ]
  },
  {
   "cell_type": "markdown",
   "metadata": {},
   "source": [
    "If we look at the table above we can see that most of our features involve binary variables, thus lying between 0 and 1. Some values have a much larger range (especially the 'lwt' column) which has the potential to attach a larger importance to this variable, which we do not want. In order to overcome this, we standardise the features so that they all have mean 0 and a standard deviation of 1. We ignore columns 'low' and 'bwt' beacuse they are what we are trying to predict (since 'bwt' implies 'low', they are basically the same variable).\n",
    "\n",
    "### Standardising Features\n",
    "We rescale the features by making use of 'StandardScaler', which operates using the following formula:\n",
    "$$ x' = \\frac{x - \\bar{x}}{\\sigma} $$\n",
    "This formula is applied to the relevant features. From now on, we make use of these new features values."
   ]
  },
  {
   "cell_type": "code",
   "execution_count": 13,
   "metadata": {},
   "outputs": [],
   "source": [
    "from sklearn.preprocessing import StandardScaler"
   ]
  },
  {
   "cell_type": "code",
   "execution_count": 14,
   "metadata": {},
   "outputs": [],
   "source": [
    "scaler = StandardScaler()\n",
    "X = scaler.fit_transform(df.drop(['low','bwt'],axis=1))"
   ]
  },
  {
   "cell_type": "markdown",
   "metadata": {},
   "source": [
    "We don't include the 'low' and 'bwt' columns since that is what we are trying to predict. Now that we have our scaled our features, we put them back into a data frame, setting the column names to be the original names, excluding 'bwt' and 'low', since they were not scaled. This data frame is then concatenated with the 'bwt' and 'low' column from the original data frame. "
   ]
  },
  {
   "cell_type": "code",
   "execution_count": 15,
   "metadata": {},
   "outputs": [
    {
     "data": {
      "text/html": [
       "<div>\n",
       "<style scoped>\n",
       "    .dataframe tbody tr th:only-of-type {\n",
       "        vertical-align: middle;\n",
       "    }\n",
       "\n",
       "    .dataframe tbody tr th {\n",
       "        vertical-align: top;\n",
       "    }\n",
       "\n",
       "    .dataframe thead th {\n",
       "        text-align: right;\n",
       "    }\n",
       "</style>\n",
       "<table border=\"1\" class=\"dataframe\">\n",
       "  <thead>\n",
       "    <tr style=\"text-align: right;\">\n",
       "      <th></th>\n",
       "      <th>age</th>\n",
       "      <th>lwt</th>\n",
       "      <th>smoke</th>\n",
       "      <th>ht</th>\n",
       "      <th>ui</th>\n",
       "      <th>ftv</th>\n",
       "      <th>ptl</th>\n",
       "      <th>race_other</th>\n",
       "      <th>race_white</th>\n",
       "      <th>bwt</th>\n",
       "      <th>low</th>\n",
       "    </tr>\n",
       "  </thead>\n",
       "  <tbody>\n",
       "    <tr>\n",
       "      <th>0</th>\n",
       "      <td>-0.801965</td>\n",
       "      <td>1.711452</td>\n",
       "      <td>-0.802171</td>\n",
       "      <td>-0.260378</td>\n",
       "      <td>2.397916</td>\n",
       "      <td>-0.943398</td>\n",
       "      <td>-0.434372</td>\n",
       "      <td>-0.741067</td>\n",
       "      <td>-1.016001</td>\n",
       "      <td>2523</td>\n",
       "      <td>0</td>\n",
       "    </tr>\n",
       "    <tr>\n",
       "      <th>1</th>\n",
       "      <td>1.847222</td>\n",
       "      <td>0.828116</td>\n",
       "      <td>-0.802171</td>\n",
       "      <td>-0.260378</td>\n",
       "      <td>-0.417029</td>\n",
       "      <td>1.059998</td>\n",
       "      <td>-0.434372</td>\n",
       "      <td>1.349406</td>\n",
       "      <td>-1.016001</td>\n",
       "      <td>2551</td>\n",
       "      <td>0</td>\n",
       "    </tr>\n",
       "    <tr>\n",
       "      <th>2</th>\n",
       "      <td>-0.612737</td>\n",
       "      <td>-0.807690</td>\n",
       "      <td>1.246617</td>\n",
       "      <td>-0.260378</td>\n",
       "      <td>-0.417029</td>\n",
       "      <td>1.059998</td>\n",
       "      <td>-0.434372</td>\n",
       "      <td>-0.741067</td>\n",
       "      <td>0.984251</td>\n",
       "      <td>2557</td>\n",
       "      <td>0</td>\n",
       "    </tr>\n",
       "    <tr>\n",
       "      <th>3</th>\n",
       "      <td>-0.423509</td>\n",
       "      <td>-0.709542</td>\n",
       "      <td>1.246617</td>\n",
       "      <td>-0.260378</td>\n",
       "      <td>2.397916</td>\n",
       "      <td>1.059998</td>\n",
       "      <td>-0.434372</td>\n",
       "      <td>-0.741067</td>\n",
       "      <td>0.984251</td>\n",
       "      <td>2594</td>\n",
       "      <td>0</td>\n",
       "    </tr>\n",
       "    <tr>\n",
       "      <th>4</th>\n",
       "      <td>-0.991192</td>\n",
       "      <td>-0.742258</td>\n",
       "      <td>1.246617</td>\n",
       "      <td>-0.260378</td>\n",
       "      <td>2.397916</td>\n",
       "      <td>-0.943398</td>\n",
       "      <td>-0.434372</td>\n",
       "      <td>-0.741067</td>\n",
       "      <td>0.984251</td>\n",
       "      <td>2600</td>\n",
       "      <td>0</td>\n",
       "    </tr>\n",
       "  </tbody>\n",
       "</table>\n",
       "</div>"
      ],
      "text/plain": [
       "        age       lwt     smoke        ht        ui       ftv       ptl  \\\n",
       "0 -0.801965  1.711452 -0.802171 -0.260378  2.397916 -0.943398 -0.434372   \n",
       "1  1.847222  0.828116 -0.802171 -0.260378 -0.417029  1.059998 -0.434372   \n",
       "2 -0.612737 -0.807690  1.246617 -0.260378 -0.417029  1.059998 -0.434372   \n",
       "3 -0.423509 -0.709542  1.246617 -0.260378  2.397916  1.059998 -0.434372   \n",
       "4 -0.991192 -0.742258  1.246617 -0.260378  2.397916 -0.943398 -0.434372   \n",
       "\n",
       "   race_other  race_white   bwt  low  \n",
       "0   -0.741067   -1.016001  2523    0  \n",
       "1    1.349406   -1.016001  2551    0  \n",
       "2   -0.741067    0.984251  2557    0  \n",
       "3   -0.741067    0.984251  2594    0  \n",
       "4   -0.741067    0.984251  2600    0  "
      ]
     },
     "execution_count": 15,
     "metadata": {},
     "output_type": "execute_result"
    }
   ],
   "source": [
    "data = pd.DataFrame(X,columns=df.drop(['low','bwt'],axis=1).columns)\n",
    "data_final = pd.concat([data,df[['bwt','low']]],axis=1)\n",
    "\n",
    "data_final.head()"
   ]
  },
  {
   "cell_type": "markdown",
   "metadata": {},
   "source": [
    "Our data set is now ready to use! The final step is to save our new data frame to a csv file that we can access later in following tutorials."
   ]
  },
  {
   "cell_type": "code",
   "execution_count": 16,
   "metadata": {},
   "outputs": [],
   "source": [
    "data_final.to_csv('BirthWeightData_final.csv')"
   ]
  }
 ],
 "metadata": {
  "kernelspec": {
   "display_name": "Python 3",
   "language": "python",
   "name": "python3"
  },
  "language_info": {
   "codemirror_mode": {
    "name": "ipython",
    "version": 3
   },
   "file_extension": ".py",
   "mimetype": "text/x-python",
   "name": "python",
   "nbconvert_exporter": "python",
   "pygments_lexer": "ipython3",
   "version": "3.6.4"
  }
 },
 "nbformat": 4,
 "nbformat_minor": 2
}
